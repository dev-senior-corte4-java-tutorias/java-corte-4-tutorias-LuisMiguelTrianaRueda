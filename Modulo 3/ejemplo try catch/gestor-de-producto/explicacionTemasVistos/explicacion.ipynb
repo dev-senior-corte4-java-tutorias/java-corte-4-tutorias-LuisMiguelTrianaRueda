{
 "cells": [
  {
   "cell_type": "markdown",
   "metadata": {},
   "source": [
    "# Explicación de `Optional` y `Stream` en Java"
   ]
  },
  {
   "cell_type": "markdown",
   "metadata": {},
   "source": [
    "## `Optional`"
   ]
  },
  {
   "cell_type": "markdown",
   "metadata": {},
   "source": [
    "La clase `Optional` es un contenedor que puede o no contener un valor no nulo. Su propósito principal es ayudar a evitar las infames `NullPointerException` y a diseñar APIs más claras y expresivas."
   ]
  },
  {
   "cell_type": "markdown",
   "metadata": {},
   "source": [
    "### Creación de `Optional`"
   ]
  },
  {
   "cell_type": "markdown",
   "metadata": {},
   "source": [
    "- `Optional.of(valor)`: Crea un `Optional` con un valor que no puede ser nulo. Si el valor es nulo, lanzará una `NullPointerException`."
   ]
  },
  {
   "cell_type": "markdown",
   "metadata": {},
   "source": [
    "- `Optional.ofNullable(valor)`: Crea un `Optional` que puede contener un valor nulo. Si el valor es nulo, el `Optional` estará vacío."
   ]
  },
  {
   "cell_type": "markdown",
   "metadata": {},
   "source": [
    "- `Optional.empty()`: Crea un `Optional` vacío."
   ]
  },
  {
   "cell_type": "markdown",
   "metadata": {},
   "source": [
    "### Métodos de `Optional` usados en `ProductosService`"
   ]
  },
  {
   "cell_type": "markdown",
   "metadata": {},
   "source": [
    "- `isPresent()`: Devuelve `true` si el `Optional` contiene un valor, o `false` si está vacío."
   ]
  },
  {
   "cell_type": "markdown",
   "metadata": {},
   "source": [
    "- `get()`: Devuelve el valor si está presente. Si el `Optional` está vacío, lanza una `NoSuchElementException`. **Es importante usar `isPresent()` antes de llamar a `get()` para evitar esta excepción.**"
   ]
  },
  {
   "cell_type": "markdown",
   "metadata": {},
   "source": [
    "## `Stream`"
   ]
  },
  {
   "cell_type": "markdown",
   "metadata": {},
   "source": [
    "Un `Stream` es una secuencia de elementos de una fuente (como una colección) que soporta operaciones de agregación. Los streams no almacenan elementos, sino que los procesan bajo demanda."
   ]
  },
  {
   "cell_type": "markdown",
   "metadata": {},
   "source": [
    "### Características de los `Stream`"
   ]
  },
  {
   "cell_type": "markdown",
   "metadata": {},
   "source": [
    "- **Funcionales:** Permiten un estilo de programación funcional."
   ]
  },
  {
   "cell_type": "markdown",
   "metadata": {},
   "source": [
    "- **Concisión:** Reducen la cantidad de código necesario para iterar y procesar colecciones."
   ]
  },
  {
   "cell_type": "markdown",
   "metadata": {},
   "source": [
    "- **Paralelismo:** Facilitan la ejecución de operaciones en paralelo."
   ]
  },
  {
   "cell_type": "markdown",
   "metadata": {},
   "source": [
    "### Métodos de `Stream` usados en `ProductosService`"
   ]
  },
  {
   "cell_type": "markdown",
   "metadata": {},
   "source": [
    "- `stream()`: Es un método de la interfaz `Collection` que devuelve un `Stream` secuencial con la colección como fuente."
   ]
  },
  {
   "cell_type": "markdown",
   "metadata": {},
   "source": [
    "- `filter(predicate)`: Devuelve un `Stream` que consiste en los elementos de este stream que coinciden con el predicado dado. Un predicado es una función que devuelve un valor booleano."
   ]
  },
  {
   "cell_type": "markdown",
   "metadata": {},
   "source": [
    "- `findFirst()`: Devuelve un `Optional` que describe el primer elemento de este stream, o un `Optional` vacío si el stream está vacío. Esta es una operación terminal, lo que significa que cierra el stream."
   ]
  },
  {
   "cell_type": "markdown",
   "metadata": {},
   "source": [
    "### Ejemplo en `ProductosService`"
   ]
  },
  {
   "cell_type": "code",
   "execution_count": null,
   "metadata": {},
   "outputs": [],
   "source": [
    "public Productos buscarProducto(int id) throws ProductoNoEncontradoExcepcion {\n",
    "    Optional<Productos> productoEncontrado = inventario.stream() // 1. Convierte la lista a un stream\n",
    "            .filter(inventario -> inventario.getId() == id) // 2. Filtra los productos por id\n",
    "            .findFirst(); // 3. Encuentra el primer producto que coincida\n",
    "\n",
    "    if (productoEncontrado.isPresent()) { // 4. Comprueba si se encontró un producto\n",
    "        return productoEncontrado.get(); // 5. Devuelve el producto encontrado\n",
    "    } else {\n",
    "        throw new ProductoNoEncontradoExcepcion(\"el producto no fue encontrado\");\n",
    "    }\n",
    "}"
   ]
  }
 ],
 "metadata": {
  "kernelspec": {
   "display_name": "Java",
   "language": "java",
   "name": "java"
  },
  "language_info": {
   "codemirror_mode": "java",
   "file_extension": ".java",
   "mimetype": "text/x-java-source",
   "name": "java",
   "pygments_lexer": "java",
   "version": "11"
  }
 },
 "nbformat": 4,
 "nbformat_minor": 2
}